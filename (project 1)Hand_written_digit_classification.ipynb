{
  "nbformat": 4,
  "nbformat_minor": 0,
  "metadata": {
    "colab": {
      "name": "Hand written digit classification.ipynb",
      "provenance": []
    },
    "kernelspec": {
      "name": "python3",
      "display_name": "Python 3"
    },
    "language_info": {
      "name": "python"
    }
  },
  "cells": [
    {
      "cell_type": "code",
      "execution_count": 1,
      "metadata": {
        "id": "oUuQ5OGEjhDs"
      },
      "outputs": [],
      "source": [
        "import pandas as pd\n",
        "import numpy as np\n",
        "import matplotlib.pyplot as plt"
      ]
    },
    {
      "cell_type": "code",
      "source": [
        "from sklearn.datasets import load_digits"
      ],
      "metadata": {
        "id": "C62ufnuCjrhz"
      },
      "execution_count": 2,
      "outputs": []
    },
    {
      "cell_type": "code",
      "source": [
        "df = load_digits()"
      ],
      "metadata": {
        "id": "ldWlI21qkEbm"
      },
      "execution_count": 3,
      "outputs": []
    },
    {
      "cell_type": "code",
      "source": [
        "df.target"
      ],
      "metadata": {
        "colab": {
          "base_uri": "https://localhost:8080/"
        },
        "id": "xuwoFA3lkHmX",
        "outputId": "686b2d41-73be-40b0-a0be-03bd6623cc52"
      },
      "execution_count": 4,
      "outputs": [
        {
          "output_type": "execute_result",
          "data": {
            "text/plain": [
              "array([0, 1, 2, ..., 8, 9, 8])"
            ]
          },
          "metadata": {},
          "execution_count": 4
        }
      ]
    },
    {
      "cell_type": "code",
      "source": [
        "df.images.shape"
      ],
      "metadata": {
        "colab": {
          "base_uri": "https://localhost:8080/"
        },
        "id": "1P1vk8KQkMFo",
        "outputId": "41d97aeb-ce5d-4853-b702-6af56cb976db"
      },
      "execution_count": 5,
      "outputs": [
        {
          "output_type": "execute_result",
          "data": {
            "text/plain": [
              "(1797, 8, 8)"
            ]
          },
          "metadata": {},
          "execution_count": 5
        }
      ]
    },
    {
      "cell_type": "code",
      "source": [
        "df.images[0].shape"
      ],
      "metadata": {
        "colab": {
          "base_uri": "https://localhost:8080/"
        },
        "id": "OdFPJzb6kQMt",
        "outputId": "c700e811-fc17-4800-b7cd-742bb582fff4"
      },
      "execution_count": 6,
      "outputs": [
        {
          "output_type": "execute_result",
          "data": {
            "text/plain": [
              "(8, 8)"
            ]
          },
          "metadata": {},
          "execution_count": 6
        }
      ]
    },
    {
      "cell_type": "code",
      "source": [
        "n_samples = len(df.images)"
      ],
      "metadata": {
        "id": "rXttuG3FkUl9"
      },
      "execution_count": 7,
      "outputs": []
    },
    {
      "cell_type": "code",
      "source": [
        "data = df.images.reshape(n_samples, -1)"
      ],
      "metadata": {
        "id": "nFv76Zv-kXXf"
      },
      "execution_count": 8,
      "outputs": []
    },
    {
      "cell_type": "code",
      "source": [
        "data.shape"
      ],
      "metadata": {
        "colab": {
          "base_uri": "https://localhost:8080/"
        },
        "id": "Xod0n9Ugka-y",
        "outputId": "30e65841-f7ac-460a-b92d-3f4412e6b01d"
      },
      "execution_count": 9,
      "outputs": [
        {
          "output_type": "execute_result",
          "data": {
            "text/plain": [
              "(1797, 64)"
            ]
          },
          "metadata": {},
          "execution_count": 9
        }
      ]
    },
    {
      "cell_type": "code",
      "source": [
        "data.min()"
      ],
      "metadata": {
        "colab": {
          "base_uri": "https://localhost:8080/"
        },
        "id": "dSIExEtikfGi",
        "outputId": "df9ab4a9-c5b4-4849-a745-36736d09a800"
      },
      "execution_count": 10,
      "outputs": [
        {
          "output_type": "execute_result",
          "data": {
            "text/plain": [
              "0.0"
            ]
          },
          "metadata": {},
          "execution_count": 10
        }
      ]
    },
    {
      "cell_type": "code",
      "source": [
        "data.max()"
      ],
      "metadata": {
        "colab": {
          "base_uri": "https://localhost:8080/"
        },
        "id": "_I-qUnkEkhhQ",
        "outputId": "46e9da7c-9c0d-4e06-b658-b8bd4b177b99"
      },
      "execution_count": 11,
      "outputs": [
        {
          "output_type": "execute_result",
          "data": {
            "text/plain": [
              "16.0"
            ]
          },
          "metadata": {},
          "execution_count": 11
        }
      ]
    },
    {
      "cell_type": "code",
      "source": [
        "data = data/16"
      ],
      "metadata": {
        "id": "o6vL6koNkju7"
      },
      "execution_count": 12,
      "outputs": []
    },
    {
      "cell_type": "code",
      "source": [
        "data.min()"
      ],
      "metadata": {
        "colab": {
          "base_uri": "https://localhost:8080/"
        },
        "id": "pw4J1FSnkmk-",
        "outputId": "cf1bd342-344c-4750-d512-72994c32e074"
      },
      "execution_count": 13,
      "outputs": [
        {
          "output_type": "execute_result",
          "data": {
            "text/plain": [
              "0.0"
            ]
          },
          "metadata": {},
          "execution_count": 13
        }
      ]
    },
    {
      "cell_type": "code",
      "source": [
        "data.max()"
      ],
      "metadata": {
        "colab": {
          "base_uri": "https://localhost:8080/"
        },
        "id": "yY4g6mankof1",
        "outputId": "3e6725e7-b4aa-490d-de5d-21158c3eb225"
      },
      "execution_count": 14,
      "outputs": [
        {
          "output_type": "execute_result",
          "data": {
            "text/plain": [
              "1.0"
            ]
          },
          "metadata": {},
          "execution_count": 14
        }
      ]
    },
    {
      "cell_type": "code",
      "source": [
        "data"
      ],
      "metadata": {
        "colab": {
          "base_uri": "https://localhost:8080/"
        },
        "id": "6tSjwK5fkrwu",
        "outputId": "8a09c3b5-d363-49f6-b954-195653a4e8d6"
      },
      "execution_count": 15,
      "outputs": [
        {
          "output_type": "execute_result",
          "data": {
            "text/plain": [
              "array([[0.    , 0.    , 0.3125, ..., 0.    , 0.    , 0.    ],\n",
              "       [0.    , 0.    , 0.    , ..., 0.625 , 0.    , 0.    ],\n",
              "       [0.    , 0.    , 0.    , ..., 1.    , 0.5625, 0.    ],\n",
              "       ...,\n",
              "       [0.    , 0.    , 0.0625, ..., 0.375 , 0.    , 0.    ],\n",
              "       [0.    , 0.    , 0.125 , ..., 0.75  , 0.    , 0.    ],\n",
              "       [0.    , 0.    , 0.625 , ..., 0.75  , 0.0625, 0.    ]])"
            ]
          },
          "metadata": {},
          "execution_count": 15
        }
      ]
    },
    {
      "cell_type": "code",
      "source": [
        "from sklearn.model_selection import train_test_split"
      ],
      "metadata": {
        "id": "dbGXzPY3kuce"
      },
      "execution_count": 16,
      "outputs": []
    },
    {
      "cell_type": "code",
      "source": [
        "X_train,X_test,y_train,y_test = train_test_split(data,df.target,train_size=0.7,test_size=0.3)"
      ],
      "metadata": {
        "id": "SP6dhEiJkxuk"
      },
      "execution_count": 17,
      "outputs": []
    },
    {
      "cell_type": "code",
      "source": [
        "X_train.shape,X_test.shape,y_train.shape,y_test.shape"
      ],
      "metadata": {
        "colab": {
          "base_uri": "https://localhost:8080/"
        },
        "id": "6aLlUfy6k0DM",
        "outputId": "d13ece4e-f530-4799-c91b-440d7aadd31f"
      },
      "execution_count": 18,
      "outputs": [
        {
          "output_type": "execute_result",
          "data": {
            "text/plain": [
              "((1257, 64), (540, 64), (1257,), (540,))"
            ]
          },
          "metadata": {},
          "execution_count": 18
        }
      ]
    },
    {
      "cell_type": "code",
      "source": [
        "from sklearn.ensemble import RandomForestClassifier"
      ],
      "metadata": {
        "id": "OCxIqfUkk3ER"
      },
      "execution_count": 19,
      "outputs": []
    },
    {
      "cell_type": "code",
      "source": [
        "rf = RandomForestClassifier()"
      ],
      "metadata": {
        "id": "mj9OCG_rk7Si"
      },
      "execution_count": 20,
      "outputs": []
    },
    {
      "cell_type": "code",
      "source": [
        "rf.fit(X_train,y_train)"
      ],
      "metadata": {
        "colab": {
          "base_uri": "https://localhost:8080/"
        },
        "id": "DFchgYY2k9S4",
        "outputId": "ab260edb-f2ea-403d-efae-0e550d8d9185"
      },
      "execution_count": 22,
      "outputs": [
        {
          "output_type": "execute_result",
          "data": {
            "text/plain": [
              "RandomForestClassifier()"
            ]
          },
          "metadata": {},
          "execution_count": 22
        }
      ]
    },
    {
      "cell_type": "code",
      "source": [
        "y_pred = rf.predict(X_test)"
      ],
      "metadata": {
        "id": "r8ea4xUCk_ls"
      },
      "execution_count": 23,
      "outputs": []
    },
    {
      "cell_type": "code",
      "source": [
        "y_pred"
      ],
      "metadata": {
        "colab": {
          "base_uri": "https://localhost:8080/"
        },
        "id": "nvT7DLmJlEJU",
        "outputId": "96a03a53-5426-461d-a244-4a7bd42bc470"
      },
      "execution_count": 24,
      "outputs": [
        {
          "output_type": "execute_result",
          "data": {
            "text/plain": [
              "array([7, 3, 8, 5, 3, 2, 3, 4, 6, 1, 6, 5, 2, 7, 1, 5, 0, 7, 3, 7, 9, 9,\n",
              "       6, 7, 4, 0, 6, 1, 2, 4, 4, 4, 4, 0, 1, 0, 2, 4, 2, 4, 9, 0, 8, 0,\n",
              "       4, 2, 7, 6, 4, 4, 5, 2, 4, 3, 8, 2, 9, 1, 8, 5, 5, 5, 1, 0, 6, 3,\n",
              "       8, 3, 7, 8, 6, 0, 0, 2, 1, 3, 9, 3, 8, 5, 0, 1, 6, 4, 7, 1, 2, 8,\n",
              "       7, 8, 4, 4, 0, 7, 7, 4, 4, 5, 4, 7, 7, 8, 4, 8, 0, 1, 1, 6, 2, 7,\n",
              "       1, 3, 1, 3, 4, 2, 8, 0, 5, 4, 3, 7, 4, 3, 3, 4, 5, 9, 3, 3, 8, 0,\n",
              "       4, 6, 5, 4, 4, 4, 1, 1, 5, 3, 2, 8, 1, 0, 7, 6, 8, 5, 0, 9, 6, 1,\n",
              "       6, 7, 6, 1, 3, 4, 5, 4, 1, 1, 9, 1, 9, 3, 5, 8, 3, 6, 4, 6, 1, 3,\n",
              "       2, 0, 3, 7, 4, 9, 4, 8, 7, 5, 8, 1, 1, 4, 9, 1, 7, 3, 8, 8, 7, 5,\n",
              "       2, 4, 3, 1, 2, 8, 6, 1, 0, 4, 2, 4, 3, 8, 2, 0, 5, 8, 0, 9, 9, 5,\n",
              "       8, 7, 3, 0, 1, 7, 8, 4, 0, 8, 3, 1, 3, 8, 0, 8, 3, 2, 5, 1, 7, 1,\n",
              "       3, 6, 2, 5, 1, 0, 6, 1, 2, 6, 1, 0, 2, 6, 8, 9, 6, 7, 6, 9, 7, 8,\n",
              "       9, 7, 6, 5, 0, 6, 1, 4, 0, 4, 4, 3, 5, 5, 8, 5, 0, 8, 7, 0, 9, 0,\n",
              "       9, 2, 2, 8, 2, 2, 5, 9, 1, 5, 0, 1, 8, 3, 4, 6, 9, 2, 2, 1, 6, 9,\n",
              "       5, 6, 9, 9, 2, 9, 7, 0, 8, 1, 7, 7, 9, 9, 5, 2, 1, 3, 8, 5, 9, 5,\n",
              "       6, 4, 6, 6, 5, 5, 9, 4, 8, 2, 5, 2, 4, 5, 9, 7, 4, 0, 9, 2, 6, 5,\n",
              "       9, 3, 1, 2, 0, 7, 0, 9, 6, 6, 3, 2, 8, 6, 6, 5, 7, 4, 0, 7, 7, 4,\n",
              "       1, 0, 5, 0, 6, 6, 9, 4, 6, 3, 1, 1, 7, 2, 8, 9, 7, 6, 2, 3, 5, 7,\n",
              "       7, 1, 5, 4, 8, 1, 3, 6, 2, 1, 5, 7, 7, 0, 8, 3, 9, 6, 0, 4, 7, 1,\n",
              "       9, 1, 1, 5, 0, 2, 9, 2, 6, 6, 7, 8, 3, 3, 1, 4, 9, 2, 2, 2, 6, 3,\n",
              "       6, 9, 6, 3, 6, 7, 9, 7, 8, 9, 9, 4, 0, 5, 2, 8, 6, 5, 2, 5, 4, 6,\n",
              "       3, 7, 1, 5, 4, 4, 9, 9, 2, 6, 5, 8, 1, 4, 0, 0, 0, 9, 0, 1, 1, 3,\n",
              "       8, 2, 0, 4, 4, 2, 8, 0, 4, 1, 0, 5, 4, 3, 0, 5, 4, 6, 0, 1, 9, 8,\n",
              "       3, 3, 1, 7, 0, 0, 4, 0, 8, 6, 9, 5, 2, 1, 4, 8, 5, 6, 0, 5, 6, 5,\n",
              "       1, 0, 6, 4, 1, 7, 6, 5, 9, 5, 4, 0])"
            ]
          },
          "metadata": {},
          "execution_count": 24
        }
      ]
    },
    {
      "cell_type": "code",
      "source": [
        "from sklearn.metrics import mean_absolute_error , mean_absolute_percentage_error , r2_score , confusion_matrix , classification_report"
      ],
      "metadata": {
        "id": "XOyUe0YhlHJr"
      },
      "execution_count": 25,
      "outputs": []
    },
    {
      "cell_type": "code",
      "source": [
        "mean_absolute_error(y_test,y_pred)"
      ],
      "metadata": {
        "colab": {
          "base_uri": "https://localhost:8080/"
        },
        "id": "qkO9mEiVlMLc",
        "outputId": "2c749440-f624-4697-fefc-550938dcee2f"
      },
      "execution_count": 26,
      "outputs": [
        {
          "output_type": "execute_result",
          "data": {
            "text/plain": [
              "0.10740740740740741"
            ]
          },
          "metadata": {},
          "execution_count": 26
        }
      ]
    },
    {
      "cell_type": "code",
      "source": [
        "mean_absolute_percentage_error(y_test,y_pred)"
      ],
      "metadata": {
        "colab": {
          "base_uri": "https://localhost:8080/"
        },
        "id": "bhADz9U4lOTx",
        "outputId": "5a44e6c9-f55e-4fcb-f38b-92a432672007"
      },
      "execution_count": 27,
      "outputs": [
        {
          "output_type": "execute_result",
          "data": {
            "text/plain": [
              "0.019140946502057617"
            ]
          },
          "metadata": {},
          "execution_count": 27
        }
      ]
    },
    {
      "cell_type": "code",
      "source": [
        "r2_score(y_test,y_pred)"
      ],
      "metadata": {
        "colab": {
          "base_uri": "https://localhost:8080/"
        },
        "id": "_aqxWbvrlQI7",
        "outputId": "43fb6dcc-05dc-4235-927e-a3f1464607f4"
      },
      "execution_count": 28,
      "outputs": [
        {
          "output_type": "execute_result",
          "data": {
            "text/plain": [
              "0.9369111537123326"
            ]
          },
          "metadata": {},
          "execution_count": 28
        }
      ]
    },
    {
      "cell_type": "code",
      "source": [
        "confusion_matrix(y_test,y_pred)"
      ],
      "metadata": {
        "colab": {
          "base_uri": "https://localhost:8080/"
        },
        "id": "fexvw2aalSBH",
        "outputId": "2189c2a2-dbb7-4e79-be32-3229e031f2d8"
      },
      "execution_count": 29,
      "outputs": [
        {
          "output_type": "execute_result",
          "data": {
            "text/plain": [
              "array([[55,  0,  0,  0,  0,  0,  0,  0,  0,  0],\n",
              "       [ 0, 58,  0,  0,  0,  0,  0,  0,  0,  0],\n",
              "       [ 0,  1, 49,  1,  0,  0,  0,  0,  0,  0],\n",
              "       [ 0,  0,  0, 47,  0,  0,  0,  0,  1,  0],\n",
              "       [ 0,  0,  0,  0, 64,  0,  0,  1,  0,  0],\n",
              "       [ 0,  0,  0,  0,  1, 54,  0,  0,  1,  1],\n",
              "       [ 2,  0,  0,  0,  0,  0, 57,  0,  0,  0],\n",
              "       [ 0,  0,  0,  0,  0,  0,  0, 46,  0,  0],\n",
              "       [ 0,  2,  0,  0,  0,  0,  0,  0, 47,  1],\n",
              "       [ 0,  0,  0,  0,  0,  2,  0,  2,  1, 46]])"
            ]
          },
          "metadata": {},
          "execution_count": 29
        }
      ]
    },
    {
      "cell_type": "code",
      "source": [
        ""
      ],
      "metadata": {
        "id": "GNWJ9139lUIk"
      },
      "execution_count": null,
      "outputs": []
    }
  ]
}